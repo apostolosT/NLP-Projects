{
  "nbformat": 4,
  "nbformat_minor": 0,
  "metadata": {
    "colab": {
      "name": "Assignment 2",
      "provenance": [],
      "collapsed_sections": [],
      "toc_visible": true
    },
    "kernelspec": {
      "name": "python3",
      "display_name": "Python 3"
    }
  },
  "cells": [
    {
      "cell_type": "markdown",
      "metadata": {
        "id": "P5y9270HT2uv",
        "colab_type": "text"
      },
      "source": [
        "### Donwloading Dataset"
      ]
    },
    {
      "cell_type": "code",
      "metadata": {
        "id": "lCpBKWFjqtYU",
        "colab_type": "code",
        "colab": {
          "base_uri": "https://localhost:8080/",
          "height": 208
        },
        "outputId": "74c0c4b5-4df8-4c39-9c7b-639980259181"
      },
      "source": [
        "!pip install kaggle\n",
        "!mkdir .kaggle"
      ],
      "execution_count": null,
      "outputs": [
        {
          "output_type": "stream",
          "text": [
            "Requirement already satisfied: kaggle in /usr/local/lib/python3.6/dist-packages (1.5.6)\n",
            "Requirement already satisfied: certifi in /usr/local/lib/python3.6/dist-packages (from kaggle) (2019.11.28)\n",
            "Requirement already satisfied: six>=1.10 in /usr/local/lib/python3.6/dist-packages (from kaggle) (1.12.0)\n",
            "Requirement already satisfied: urllib3<1.25,>=1.21.1 in /usr/local/lib/python3.6/dist-packages (from kaggle) (1.24.3)\n",
            "Requirement already satisfied: python-slugify in /usr/local/lib/python3.6/dist-packages (from kaggle) (4.0.0)\n",
            "Requirement already satisfied: tqdm in /usr/local/lib/python3.6/dist-packages (from kaggle) (4.28.1)\n",
            "Requirement already satisfied: requests in /usr/local/lib/python3.6/dist-packages (from kaggle) (2.21.0)\n",
            "Requirement already satisfied: python-dateutil in /usr/local/lib/python3.6/dist-packages (from kaggle) (2.6.1)\n",
            "Requirement already satisfied: text-unidecode>=1.3 in /usr/local/lib/python3.6/dist-packages (from python-slugify->kaggle) (1.3)\n",
            "Requirement already satisfied: chardet<3.1.0,>=3.0.2 in /usr/local/lib/python3.6/dist-packages (from requests->kaggle) (3.0.4)\n",
            "Requirement already satisfied: idna<2.9,>=2.5 in /usr/local/lib/python3.6/dist-packages (from requests->kaggle) (2.8)\n"
          ],
          "name": "stdout"
        }
      ]
    },
    {
      "cell_type": "code",
      "metadata": {
        "id": "0x0avkMQsNyf",
        "colab_type": "code",
        "colab": {}
      },
      "source": [
        "import json\n",
        "token = {\"username\":\"ystark\",\"key\":\"7d9d124dcd4afabb3ef553b00daea011\"}\n",
        "with open('/content/.kaggle/kaggle.json', 'w') as file:\n",
        "    json.dump(token, file)"
      ],
      "execution_count": null,
      "outputs": []
    },
    {
      "cell_type": "code",
      "metadata": {
        "id": "GIUeFEvnsWHt",
        "colab_type": "code",
        "colab": {
          "base_uri": "https://localhost:8080/",
          "height": 243
        },
        "outputId": "3aa63643-4c56-4f0d-8e21-c86a94a324c8"
      },
      "source": [
        "#May require to run twice\n",
        "!cp /content/.kaggle/kaggle.json ~/.kaggle/kaggle.json;\n",
        "!kaggle config set -n path -v {/content};\n",
        "!chmod 600 /root/.kaggle/kaggle.json;\n",
        "!kaggle competitions download -c twitter-sentiment-analysis2;\n",
        "\n",
        "!unzip /content/{/content}/competitions/twitter-sentiment-analysis2/train.csv.zip;\n",
        "!unzip /content/{/content}/competitions/twitter-sentiment-analysis2/test.csv.zip;"
      ],
      "execution_count": null,
      "outputs": [
        {
          "output_type": "stream",
          "text": [
            "Warning: Your Kaggle API key is readable by other users on this system! To fix this, you can run 'chmod 600 /root/.kaggle/kaggle.json'\n",
            "- path is now set to: {/content}\n",
            "Warning: Looks like you're using an outdated API Version, please consider updating (server 1.5.6 / client 1.5.4)\n",
            "Downloading train.csv.zip to {/content}/competitions/twitter-sentiment-analysis2\n",
            "  0% 0.00/3.67M [00:00<?, ?B/s]\n",
            "100% 3.67M/3.67M [00:00<00:00, 60.7MB/s]\n",
            "Downloading test.csv.zip to {/content}/competitions/twitter-sentiment-analysis2\n",
            " 82% 9.00M/11.0M [00:00<00:00, 26.7MB/s]\n",
            "100% 11.0M/11.0M [00:00<00:00, 27.6MB/s]\n",
            "Archive:  /content/{/content}/competitions/twitter-sentiment-analysis2/train.csv.zip\n",
            "  inflating: train.csv               \n",
            "Archive:  /content/{/content}/competitions/twitter-sentiment-analysis2/test.csv.zip\n",
            "  inflating: test.csv                \n"
          ],
          "name": "stdout"
        }
      ]
    },
    {
      "cell_type": "markdown",
      "metadata": {
        "id": "y-vDDTnitMNh",
        "colab_type": "text"
      },
      "source": [
        "# Begin Project"
      ]
    },
    {
      "cell_type": "markdown",
      "metadata": {
        "id": "CHwHp2PNTanh",
        "colab_type": "text"
      },
      "source": [
        "file descriptions\n",
        "\n",
        "train.csv - the training set\n",
        "test.csv - the test set\n",
        "Data fields\n",
        "\n",
        "ItemID - id of twit\n",
        "Sentiment - sentiment\n",
        "SentimentText - text of the twit\n",
        "\n",
        "\n",
        "0 - negative\n",
        "\n",
        "1 - positive"
      ]
    },
    {
      "cell_type": "code",
      "metadata": {
        "id": "PmvfvDHNe6h5",
        "colab_type": "code",
        "colab": {
          "base_uri": "https://localhost:8080/",
          "height": 121
        },
        "outputId": "b93e55fb-b12e-4782-aef8-10fa9da80d2b"
      },
      "source": [
        "import pandas as pd\n",
        "import numpy as np\n",
        "from matplotlib import pyplot as plt\n",
        "import seaborn as sns\n",
        "import string \n",
        "import re\n",
        "import nltk\n",
        "nltk.download('wordnet')\n",
        "nltk.download('punkt')\n",
        "nltk.download('stopwords')\n",
        "from nltk.tokenize import word_tokenize\n",
        "from nltk.tokenize import TweetTokenizer"
      ],
      "execution_count": null,
      "outputs": [
        {
          "output_type": "stream",
          "text": [
            "[nltk_data] Downloading package wordnet to /root/nltk_data...\n",
            "[nltk_data]   Unzipping corpora/wordnet.zip.\n",
            "[nltk_data] Downloading package punkt to /root/nltk_data...\n",
            "[nltk_data]   Unzipping tokenizers/punkt.zip.\n",
            "[nltk_data] Downloading package stopwords to /root/nltk_data...\n",
            "[nltk_data]   Unzipping corpora/stopwords.zip.\n"
          ],
          "name": "stdout"
        }
      ]
    },
    {
      "cell_type": "code",
      "metadata": {
        "colab_type": "code",
        "id": "ajerTCq7UHHb",
        "colab": {
          "base_uri": "https://localhost:8080/",
          "height": 206
        },
        "outputId": "06b41676-211d-4a31-8b3f-f5737880612f"
      },
      "source": [
        "train_data=pd.read_csv('/content/train.csv',encoding = \"ISO-8859-1\")\n",
        "train_data.head()"
      ],
      "execution_count": null,
      "outputs": [
        {
          "output_type": "execute_result",
          "data": {
            "text/html": [
              "<div>\n",
              "<style scoped>\n",
              "    .dataframe tbody tr th:only-of-type {\n",
              "        vertical-align: middle;\n",
              "    }\n",
              "\n",
              "    .dataframe tbody tr th {\n",
              "        vertical-align: top;\n",
              "    }\n",
              "\n",
              "    .dataframe thead th {\n",
              "        text-align: right;\n",
              "    }\n",
              "</style>\n",
              "<table border=\"1\" class=\"dataframe\">\n",
              "  <thead>\n",
              "    <tr style=\"text-align: right;\">\n",
              "      <th></th>\n",
              "      <th>ItemID</th>\n",
              "      <th>Sentiment</th>\n",
              "      <th>SentimentText</th>\n",
              "    </tr>\n",
              "  </thead>\n",
              "  <tbody>\n",
              "    <tr>\n",
              "      <th>0</th>\n",
              "      <td>1</td>\n",
              "      <td>0</td>\n",
              "      <td>is so sad for my APL frie...</td>\n",
              "    </tr>\n",
              "    <tr>\n",
              "      <th>1</th>\n",
              "      <td>2</td>\n",
              "      <td>0</td>\n",
              "      <td>I missed the New Moon trail...</td>\n",
              "    </tr>\n",
              "    <tr>\n",
              "      <th>2</th>\n",
              "      <td>3</td>\n",
              "      <td>1</td>\n",
              "      <td>omg its already 7:30 :O</td>\n",
              "    </tr>\n",
              "    <tr>\n",
              "      <th>3</th>\n",
              "      <td>4</td>\n",
              "      <td>0</td>\n",
              "      <td>.. Omgaga. Im sooo  im gunna CRy. I'...</td>\n",
              "    </tr>\n",
              "    <tr>\n",
              "      <th>4</th>\n",
              "      <td>5</td>\n",
              "      <td>0</td>\n",
              "      <td>i think mi bf is cheating on me!!!   ...</td>\n",
              "    </tr>\n",
              "  </tbody>\n",
              "</table>\n",
              "</div>"
            ],
            "text/plain": [
              "   ItemID  Sentiment                                      SentimentText\n",
              "0       1          0                       is so sad for my APL frie...\n",
              "1       2          0                     I missed the New Moon trail...\n",
              "2       3          1                            omg its already 7:30 :O\n",
              "3       4          0            .. Omgaga. Im sooo  im gunna CRy. I'...\n",
              "4       5          0           i think mi bf is cheating on me!!!   ..."
            ]
          },
          "metadata": {
            "tags": []
          },
          "execution_count": 6
        }
      ]
    },
    {
      "cell_type": "markdown",
      "metadata": {
        "id": "IrMoNj1fsA83",
        "colab_type": "text"
      },
      "source": [
        "\n",
        "\n",
        "```\n",
        "# This is formatted as code\n",
        "```\n",
        "\n",
        "### Exploratory Data Analysis"
      ]
    },
    {
      "cell_type": "code",
      "metadata": {
        "id": "unu4g6GwipHl",
        "colab_type": "code",
        "colab": {
          "base_uri": "https://localhost:8080/",
          "height": 296
        },
        "outputId": "c2756957-d03b-473b-8459-06b7f837383f"
      },
      "source": [
        "sns.countplot(x = 'Sentiment', data = train_data)"
      ],
      "execution_count": null,
      "outputs": [
        {
          "output_type": "execute_result",
          "data": {
            "text/plain": [
              "<matplotlib.axes._subplots.AxesSubplot at 0x7fbce03b52e8>"
            ]
          },
          "metadata": {
            "tags": []
          },
          "execution_count": 7
        },
        {
          "output_type": "display_data",
          "data": {
            "image/png": "[encoded data removed]",
            "text/plain": [
              "<Figure size 432x288 with 1 Axes>"
            ]
          },
          "metadata": {
            "tags": []
          }
        }
      ]
    },
    {
      "cell_type": "markdown",
      "metadata": {
        "id": "2nKoR89bsAAS",
        "colab_type": "text"
      },
      "source": [
        "### Preprocessing"
      ]
    },
    {
      "cell_type": "code",
      "metadata": {
        "id": "pc0YS8oyw2cc",
        "colab_type": "code",
        "colab": {}
      },
      "source": [
        "tweets=pd.DataFrame(train_data.SentimentText)"
      ],
      "execution_count": null,
      "outputs": []
    },
    {
      "cell_type": "code",
      "metadata": {
        "id": "A2eFp83Key_X",
        "colab_type": "code",
        "colab": {
          "base_uri": "https://localhost:8080/",
          "height": 363
        },
        "outputId": "cedd568c-9fd6-42fd-b55f-c371b32db009"
      },
      "source": [
        "tt = TweetTokenizer()\n",
        "tweets['tokenized_text']=tweets.apply(lambda row: tt.tokenize(row['SentimentText']),axis=1)\n",
        "tweets.head(10)"
      ],
      "execution_count": null,
      "outputs": [
        {
          "output_type": "execute_result",
          "data": {
            "text/html": [
              "<div>\n",
              "<style scoped>\n",
              "    .dataframe tbody tr th:only-of-type {\n",
              "        vertical-align: middle;\n",
              "    }\n",
              "\n",
              "    .dataframe tbody tr th {\n",
              "        vertical-align: top;\n",
              "    }\n",
              "\n",
              "    .dataframe thead th {\n",
              "        text-align: right;\n",
              "    }\n",
              "</style>\n",
              "<table border=\"1\" class=\"dataframe\">\n",
              "  <thead>\n",
              "    <tr style=\"text-align: right;\">\n",
              "      <th></th>\n",
              "      <th>SentimentText</th>\n",
              "      <th>tokenized_text</th>\n",
              "    </tr>\n",
              "  </thead>\n",
              "  <tbody>\n",
              "    <tr>\n",
              "      <th>0</th>\n",
              "      <td>is so sad for my APL frie...</td>\n",
              "      <td>[is, so, sad, for, my, APL, friend, ...]</td>\n",
              "    </tr>\n",
              "    <tr>\n",
              "      <th>1</th>\n",
              "      <td>I missed the New Moon trail...</td>\n",
              "      <td>[I, missed, the, New, Moon, trailer, ...]</td>\n",
              "    </tr>\n",
              "    <tr>\n",
              "      <th>2</th>\n",
              "      <td>omg its already 7:30 :O</td>\n",
              "      <td>[omg, its, already, 7:30, :, O]</td>\n",
              "    </tr>\n",
              "    <tr>\n",
              "      <th>3</th>\n",
              "      <td>.. Omgaga. Im sooo  im gunna CRy. I'...</td>\n",
              "      <td>[.., Omgaga, ., Im, sooo, im, gunna, CRy, ., I...</td>\n",
              "    </tr>\n",
              "    <tr>\n",
              "      <th>4</th>\n",
              "      <td>i think mi bf is cheating on me!!!   ...</td>\n",
              "      <td>[i, think, mi, bf, is, cheating, on, me, !, !,...</td>\n",
              "    </tr>\n",
              "    <tr>\n",
              "      <th>5</th>\n",
              "      <td>or i just worry too much?</td>\n",
              "      <td>[or, i, just, worry, too, much, ?]</td>\n",
              "    </tr>\n",
              "    <tr>\n",
              "      <th>6</th>\n",
              "      <td>Juuuuuuuuuuuuuuuuussssst Chillin!!</td>\n",
              "      <td>[Juuuuuuuuuuuuuuuuussssst, Chillin, !, !]</td>\n",
              "    </tr>\n",
              "    <tr>\n",
              "      <th>7</th>\n",
              "      <td>Sunny Again        Work Tomorrow  :-|  ...</td>\n",
              "      <td>[Sunny, Again, Work, Tomorrow, :-|, TV, Tonight]</td>\n",
              "    </tr>\n",
              "    <tr>\n",
              "      <th>8</th>\n",
              "      <td>handed in my uniform today . i miss you ...</td>\n",
              "      <td>[handed, in, my, uniform, today, ., i, miss, y...</td>\n",
              "    </tr>\n",
              "    <tr>\n",
              "      <th>9</th>\n",
              "      <td>hmmmm.... i wonder how she my number @-)</td>\n",
              "      <td>[hmmmm, ..., i, wonder, how, she, my, number, ...</td>\n",
              "    </tr>\n",
              "  </tbody>\n",
              "</table>\n",
              "</div>"
            ],
            "text/plain": [
              "                                       SentimentText                                     tokenized_text\n",
              "0                       is so sad for my APL frie...           [is, so, sad, for, my, APL, friend, ...]\n",
              "1                     I missed the New Moon trail...          [I, missed, the, New, Moon, trailer, ...]\n",
              "2                            omg its already 7:30 :O                    [omg, its, already, 7:30, :, O]\n",
              "3            .. Omgaga. Im sooo  im gunna CRy. I'...  [.., Omgaga, ., Im, sooo, im, gunna, CRy, ., I...\n",
              "4           i think mi bf is cheating on me!!!   ...  [i, think, mi, bf, is, cheating, on, me, !, !,...\n",
              "5                  or i just worry too much?                         [or, i, just, worry, too, much, ?]\n",
              "6                 Juuuuuuuuuuuuuuuuussssst Chillin!!          [Juuuuuuuuuuuuuuuuussssst, Chillin, !, !]\n",
              "7         Sunny Again        Work Tomorrow  :-|  ...   [Sunny, Again, Work, Tomorrow, :-|, TV, Tonight]\n",
              "8        handed in my uniform today . i miss you ...  [handed, in, my, uniform, today, ., i, miss, y...\n",
              "9           hmmmm.... i wonder how she my number @-)  [hmmmm, ..., i, wonder, how, she, my, number, ..."
            ]
          },
          "metadata": {
            "tags": []
          },
          "execution_count": 9
        }
      ]
    },
    {
      "cell_type": "code",
      "metadata": {
        "id": "yG_KizJcq0YZ",
        "colab_type": "code",
        "colab": {
          "base_uri": "https://localhost:8080/",
          "height": 34
        },
        "outputId": "524b8b17-d368-475a-aabd-ef8a75b126a7"
      },
      "source": [
        "total_words=0\n",
        "for i in range(len(tweets)):\n",
        "  total_words+=len(tweets.tokenized_text[i])\n",
        "\n",
        "average_document_length=total_words/len(tweets)\n",
        "print(\"average_document_length: \",average_document_length)"
      ],
      "execution_count": null,
      "outputs": [
        {
          "output_type": "stream",
          "text": [
            "average_document_length:  15.611687285601416\n"
          ],
          "name": "stdout"
        }
      ]
    },
    {
      "cell_type": "code",
      "metadata": {
        "id": "kYJgsY-EiIQk",
        "colab_type": "code",
        "colab": {}
      },
      "source": [
        "#Final Preprocessing\n",
        "from nltk.stem import WordNetLemmatizer\n",
        "import re\n",
        "\n",
        "stemmer = WordNetLemmatizer()\n",
        "stopword = nltk.corpus.stopwords.words('english')\n",
        "\n",
        "\n",
        "def document_cleaner(document):\n",
        "    # Remove \\n\n",
        "    document = re.sub('\\s+[\\\\n\\\\r]+', '', document)\n",
        "\n",
        "    # Remove all the special characters\n",
        "    document = re.sub('\\W', ' ', document)\n",
        "\n",
        "    # Remove all single characters\n",
        "    document = re.sub('\\s+[a-zA-Z]\\s+', ' ', document)\n",
        "\n",
        "    # Substituting multiple spaces with single space\n",
        "    document = re.sub(r'\\s+', ' ', document)\n",
        "\n",
        "    document = document.lower()\n",
        "\n",
        "    # Lemmatization\n",
        "    document = document.split()\n",
        "    #ebgala hdh ta stopwords\n",
        "    document = [word for word in document if word not in stopword]\n",
        "\n",
        "    document = [stemmer.lemmatize(word) for word in document]\n",
        "    document = ' '.join(document)\n",
        "    return document"
      ],
      "execution_count": null,
      "outputs": []
    },
    {
      "cell_type": "code",
      "metadata": {
        "id": "iq-WF8gcGdH5",
        "colab_type": "code",
        "colab": {
          "base_uri": "https://localhost:8080/",
          "height": 398
        },
        "outputId": "a30984d0-ad5f-4fa7-f414-1385ea7a7ed0"
      },
      "source": [
        "tweets['preprocessed_tokenized_text']=tweets['SentimentText'].apply(document_cleaner)\n",
        "tweets['preprocessed_tokenized_text']=tweets.apply(lambda row: tt.tokenize(row['preprocessed_tokenized_text']),axis=1)\n",
        "tweets['joined_prepr_text'] = tweets['preprocessed_tokenized_text'].apply(lambda x: ' '.join(map(str, x)))\n",
        "tweets.head(10)"
      ],
      "execution_count": null,
      "outputs": [
        {
          "output_type": "execute_result",
          "data": {
            "text/html": [
              "<div>\n",
              "<style scoped>\n",
              "    .dataframe tbody tr th:only-of-type {\n",
              "        vertical-align: middle;\n",
              "    }\n",
              "\n",
              "    .dataframe tbody tr th {\n",
              "        vertical-align: top;\n",
              "    }\n",
              "\n",
              "    .dataframe thead th {\n",
              "        text-align: right;\n",
              "    }\n",
              "</style>\n",
              "<table border=\"1\" class=\"dataframe\">\n",
              "  <thead>\n",
              "    <tr style=\"text-align: right;\">\n",
              "      <th></th>\n",
              "      <th>SentimentText</th>\n",
              "      <th>tokenized_text</th>\n",
              "      <th>preprocessed_tokenized_text</th>\n",
              "      <th>joined_prepr_text</th>\n",
              "    </tr>\n",
              "  </thead>\n",
              "  <tbody>\n",
              "    <tr>\n",
              "      <th>0</th>\n",
              "      <td>is so sad for my APL frie...</td>\n",
              "      <td>[is, so, sad, for, my, APL, friend, ...]</td>\n",
              "      <td>[sad, apl, friend]</td>\n",
              "      <td>sad apl friend</td>\n",
              "    </tr>\n",
              "    <tr>\n",
              "      <th>1</th>\n",
              "      <td>I missed the New Moon trail...</td>\n",
              "      <td>[I, missed, the, New, Moon, trailer, ...]</td>\n",
              "      <td>[missed, new, moon, trailer]</td>\n",
              "      <td>missed new moon trailer</td>\n",
              "    </tr>\n",
              "    <tr>\n",
              "      <th>2</th>\n",
              "      <td>omg its already 7:30 :O</td>\n",
              "      <td>[omg, its, already, 7:30, :, O]</td>\n",
              "      <td>[omg, already, 7, 30]</td>\n",
              "      <td>omg already 7 30</td>\n",
              "    </tr>\n",
              "    <tr>\n",
              "      <th>3</th>\n",
              "      <td>.. Omgaga. Im sooo  im gunna CRy. I'...</td>\n",
              "      <td>[.., Omgaga, ., Im, sooo, im, gunna, CRy, ., I...</td>\n",
              "      <td>[omgaga, im, sooo, im, gunna, cry, dentist, si...</td>\n",
              "      <td>omgaga im sooo im gunna cry dentist since 11 s...</td>\n",
              "    </tr>\n",
              "    <tr>\n",
              "      <th>4</th>\n",
              "      <td>i think mi bf is cheating on me!!!   ...</td>\n",
              "      <td>[i, think, mi, bf, is, cheating, on, me, !, !,...</td>\n",
              "      <td>[think, mi, bf, cheating, t_t]</td>\n",
              "      <td>think mi bf cheating t_t</td>\n",
              "    </tr>\n",
              "    <tr>\n",
              "      <th>5</th>\n",
              "      <td>or i just worry too much?</td>\n",
              "      <td>[or, i, just, worry, too, much, ?]</td>\n",
              "      <td>[worry, much]</td>\n",
              "      <td>worry much</td>\n",
              "    </tr>\n",
              "    <tr>\n",
              "      <th>6</th>\n",
              "      <td>Juuuuuuuuuuuuuuuuussssst Chillin!!</td>\n",
              "      <td>[Juuuuuuuuuuuuuuuuussssst, Chillin, !, !]</td>\n",
              "      <td>[juuuuuuuuuuuuuuuuussssst, chillin]</td>\n",
              "      <td>juuuuuuuuuuuuuuuuussssst chillin</td>\n",
              "    </tr>\n",
              "    <tr>\n",
              "      <th>7</th>\n",
              "      <td>Sunny Again        Work Tomorrow  :-|  ...</td>\n",
              "      <td>[Sunny, Again, Work, Tomorrow, :-|, TV, Tonight]</td>\n",
              "      <td>[sunny, work, tomorrow, tv, tonight]</td>\n",
              "      <td>sunny work tomorrow tv tonight</td>\n",
              "    </tr>\n",
              "    <tr>\n",
              "      <th>8</th>\n",
              "      <td>handed in my uniform today . i miss you ...</td>\n",
              "      <td>[handed, in, my, uniform, today, ., i, miss, y...</td>\n",
              "      <td>[handed, uniform, today, miss, already]</td>\n",
              "      <td>handed uniform today miss already</td>\n",
              "    </tr>\n",
              "    <tr>\n",
              "      <th>9</th>\n",
              "      <td>hmmmm.... i wonder how she my number @-)</td>\n",
              "      <td>[hmmmm, ..., i, wonder, how, she, my, number, ...</td>\n",
              "      <td>[hmmmm, wonder, number]</td>\n",
              "      <td>hmmmm wonder number</td>\n",
              "    </tr>\n",
              "  </tbody>\n",
              "</table>\n",
              "</div>"
            ],
            "text/plain": [
              "                                       SentimentText  ...                                  joined_prepr_text\n",
              "0                       is so sad for my APL frie...  ...                                     sad apl friend\n",
              "1                     I missed the New Moon trail...  ...                            missed new moon trailer\n",
              "2                            omg its already 7:30 :O  ...                                   omg already 7 30\n",
              "3            .. Omgaga. Im sooo  im gunna CRy. I'...  ...  omgaga im sooo im gunna cry dentist since 11 s...\n",
              "4           i think mi bf is cheating on me!!!   ...  ...                           think mi bf cheating t_t\n",
              "5                  or i just worry too much?          ...                                         worry much\n",
              "6                 Juuuuuuuuuuuuuuuuussssst Chillin!!  ...                   juuuuuuuuuuuuuuuuussssst chillin\n",
              "7         Sunny Again        Work Tomorrow  :-|  ...  ...                     sunny work tomorrow tv tonight\n",
              "8        handed in my uniform today . i miss you ...  ...                  handed uniform today miss already\n",
              "9           hmmmm.... i wonder how she my number @-)  ...                                hmmmm wonder number\n",
              "\n",
              "[10 rows x 4 columns]"
            ]
          },
          "metadata": {
            "tags": []
          },
          "execution_count": 12
        }
      ]
    },
    {
      "cell_type": "code",
      "metadata": {
        "id": "4Fll4CVKIfxw",
        "colab_type": "code",
        "colab": {
          "base_uri": "https://localhost:8080/",
          "height": 34
        },
        "outputId": "dbc887bc-23d5-444f-a326-be3f3b5c416d"
      },
      "source": [
        "vocab_size=0\n",
        "for i in range(len(tweets)):\n",
        "  vocab_size+=len(tweets.preprocessed_tokenized_text \t[i])\n",
        "\n",
        "print('Vocab_size: ',vocab_size)"
      ],
      "execution_count": null,
      "outputs": [
        {
          "output_type": "stream",
          "text": [
            "Vocab_size:  794316\n"
          ],
          "name": "stdout"
        }
      ]
    },
    {
      "cell_type": "markdown",
      "metadata": {
        "id": "cCl-xySHKbk_",
        "colab_type": "text"
      },
      "source": [
        "### Create Train-Test Set"
      ]
    },
    {
      "cell_type": "code",
      "metadata": {
        "id": "nPR8a4DJy_ZD",
        "colab_type": "code",
        "colab": {}
      },
      "source": [
        "from sklearn.model_selection import train_test_split"
      ],
      "execution_count": null,
      "outputs": []
    },
    {
      "cell_type": "code",
      "metadata": {
        "id": "ul1sgqg30ATE",
        "colab_type": "code",
        "colab": {}
      },
      "source": [
        "X_train,X_test,y_train,y_test=train_test_split(tweets['joined_prepr_text'],train_data['Sentiment'],test_size = 0.3,random_state=1)"
      ],
      "execution_count": null,
      "outputs": []
    },
    {
      "cell_type": "code",
      "metadata": {
        "id": "CTc-KpV-fvI8",
        "colab_type": "code",
        "colab": {
          "base_uri": "https://localhost:8080/",
          "height": 34
        },
        "outputId": "80beade8-ce83-4682-89ef-0140eda5ef1b"
      },
      "source": [
        "print(X_train.shape, X_test.shape)"
      ],
      "execution_count": null,
      "outputs": [
        {
          "output_type": "stream",
          "text": [
            "(69992,) (29997,)\n"
          ],
          "name": "stdout"
        }
      ]
    },
    {
      "cell_type": "code",
      "metadata": {
        "id": "xTjUgaLonfRQ",
        "colab_type": "code",
        "colab": {}
      },
      "source": [
        "from sklearn.feature_extraction.text import TfidfVectorizer\n",
        "\n",
        "tfidf=TfidfVectorizer(ngram_range=(1,2),max_features = 5000)\n",
        "X_train_tfidf=tfidf.fit_transform(X_train)\n",
        "X_test_tfidf=tfidf.transform(X_test)"
      ],
      "execution_count": null,
      "outputs": []
    },
    {
      "cell_type": "markdown",
      "metadata": {
        "id": "COWB9Ads7YHK",
        "colab_type": "text"
      },
      "source": [
        "### Hyper parameter tuning for Logistic Regression"
      ]
    },
    {
      "cell_type": "code",
      "metadata": {
        "id": "4vM0OitM4Srb",
        "colab_type": "code",
        "colab": {}
      },
      "source": [
        "from sklearn.model_selection import cross_val_score\n",
        "from sklearn.metrics import accuracy_score,f1_score\n",
        "from sklearn.linear_model import LogisticRegression\n",
        "from sklearn.model_selection import RandomizedSearchCV\n",
        "from sklearn.pipeline import Pipeline\n",
        "from sklearn.naive_bayes import MultinomialNB"
      ],
      "execution_count": null,
      "outputs": []
    },
    {
      "cell_type": "code",
      "metadata": {
        "id": "jlFmqZBM0YKT",
        "colab_type": "code",
        "colab": {
          "base_uri": "https://localhost:8080/",
          "height": 72
        },
        "outputId": "a89cc5c9-b0fa-4d76-c37c-08d05d36ef80"
      },
      "source": [
        "lr_pipeline = Pipeline([\n",
        "    ('tfidf_vectorizer', TfidfVectorizer()),\n",
        "    ('lr', LogisticRegression())])\n",
        "\n",
        "grid_params = {\n",
        "  'lr__solver': ['liblinear'],\n",
        "  'lr__C': np.linspace(0.1, 1, 10),\n",
        "  'lr__max_iter': [50, 100, 200],\n",
        "  'lr__penalty': ['l1', 'l2', 'elasticnet'],\n",
        "  'tfidf_vectorizer__max_features': [1000, 2000, 5000,10000],\n",
        "  'tfidf_vectorizer__max_df': np.linspace(0.1, 1, 10),\n",
        "  'tfidf_vectorizer__binary': [True, False],\n",
        "  'tfidf_vectorizer__norm': [None, 'l1', 'l2'], \n",
        "}\n",
        "\n",
        "clf = RandomizedSearchCV(lr_pipeline, grid_params,scoring='f1',cv=5,n_jobs=-1, n_iter=100)\n",
        "clf.fit(X_train, y_train)\n",
        "print(\"Best Score: \", clf.best_score_)\n",
        "print(\"Best Params: \", clf.best_params_)"
      ],
      "execution_count": null,
      "outputs": [
        {
          "output_type": "stream",
          "text": [
            "Best Score:  0.7851259595495291\n",
            "Best Params:  {'tfidf_vectorizer__norm': 'l2', 'tfidf_vectorizer__max_features': 10000, 'tfidf_vectorizer__max_df': 0.2, 'tfidf_vectorizer__binary': False, 'lr__solver': 'liblinear', 'lr__penalty': 'l2', 'lr__max_iter': 200, 'lr__C': 0.4}\n"
          ],
          "name": "stdout"
        }
      ]
    },
    {
      "cell_type": "markdown",
      "metadata": {
        "id": "QQiVs4uCFJNf",
        "colab_type": "text"
      },
      "source": [
        "###Naive Bayes tuning"
      ]
    },
    {
      "cell_type": "code",
      "metadata": {
        "id": "zoBJZoDgSUSy",
        "colab_type": "code",
        "colab": {
          "base_uri": "https://localhost:8080/",
          "height": 72
        },
        "outputId": "89b34d75-7e69-4858-fbad-e901512def11"
      },
      "source": [
        "mnb_pipeline = Pipeline([\n",
        "    ('tfidf_vectorizer', TfidfVectorizer()),\n",
        "    ('mnb', MultinomialNB())\n",
        "])\n",
        "\n",
        "grid_params={\n",
        "  'mnb__alpha': np.linspace(0.5, 1.5, 6),\n",
        "  'mnb__fit_prior': [True, False],\n",
        "  'tfidf_vectorizer__max_features': [1000, 2000, 5000,10000],\n",
        "  'tfidf_vectorizer__max_df': np.linspace(0.1, 1, 10),\n",
        "  'tfidf_vectorizer__binary': [True, False],\n",
        "  'tfidf_vectorizer__norm': [None, 'l1', 'l2'],   \n",
        "}\n",
        "\n",
        "mnb_tuned = RandomizedSearchCV(mnb_pipeline, grid_params,scoring='f1',cv=5,n_jobs=-1,n_iter=100)\n",
        "mnb_tuned.fit(X_train, y_train)\n",
        "print(\"Best Score: \", mnb_tuned.best_score_)\n",
        "print(\"Best Params: \", mnb_tuned.best_params_)"
      ],
      "execution_count": null,
      "outputs": [
        {
          "output_type": "stream",
          "text": [
            "Best Score:  0.7836748266636855\n",
            "Best Params:  {'tfidf_vectorizer__norm': 'l2', 'tfidf_vectorizer__max_features': 10000, 'tfidf_vectorizer__max_df': 1.0, 'tfidf_vectorizer__binary': False, 'mnb__fit_prior': True, 'mnb__alpha': 1.1}\n"
          ],
          "name": "stdout"
        }
      ]
    },
    {
      "cell_type": "code",
      "metadata": {
        "id": "gk7OGKytVMvA",
        "colab_type": "code",
        "colab": {}
      },
      "source": [
        "import pickle\n",
        "\n",
        "with open('mnb.pickle', 'wb') as handle:\n",
        "    pickle.dump(mnb_tuned.best_params_, handle, protocol=pickle.HIGHEST_PROTOCOL)"
      ],
      "execution_count": null,
      "outputs": []
    },
    {
      "cell_type": "markdown",
      "metadata": {
        "id": "_IOUhArmBsEL",
        "colab_type": "text"
      },
      "source": [
        "### Results"
      ]
    },
    {
      "cell_type": "markdown",
      "metadata": {
        "id": "5JDfRrcpxTNU",
        "colab_type": "text"
      },
      "source": [
        "#### Dummy Classifier\n"
      ]
    },
    {
      "cell_type": "code",
      "metadata": {
        "id": "TibxaEUq30a5",
        "colab_type": "code",
        "colab": {
          "base_uri": "https://localhost:8080/",
          "height": 317
        },
        "outputId": "164ee26e-cff2-499c-e2fa-f529e5fe8ccf"
      },
      "source": [
        "from sklearn.dummy import DummyClassifier\n",
        "from sklearn.metrics import f1_score\n",
        "from sklearn.metrics import precision_score\n",
        "from sklearn.metrics import recall_score\n",
        "\n",
        "results = {}\n",
        "\n",
        "base = DummyClassifier(strategy='most_frequent')\n",
        "base.fit(X_train_tfidf, y_train)\n",
        "\n",
        "predictions = base.predict(X_train_tfidf)\n",
        "results['f1-score train'] = f1_score(y_train, predictions)\n",
        "results['f1-score macro train'] = f1_score(y_train, predictions, average='macro')\n",
        "results['precision train'] = precision_score(y_train, predictions)\n",
        "results['recall train'] = recall_score(y_train, predictions)\n",
        "print(\"train f1-score: %.2f%%\" % (results['f1-score train']*100))\n",
        "print(\"train macro f1-score: %.2f%%\" % (results['f1-score macro train']*100))\n",
        "print(\"train precision: %.2f%%\" % (results['precision train']*100))\n",
        "print(\"train recall: %.2f%%\" % (results['recall train']*100))\n",
        "\n",
        "predictions_test = base.predict(X_test_tfidf)\n",
        "results['f1-score test'] = f1_score(y_test, predictions_test)\n",
        "results['f1-score macro test'] = f1_score(y_test, predictions_test, average='macro')\n",
        "results['precision test'] = precision_score(y_test, predictions_test)\n",
        "results['recall test'] = recall_score(y_test, predictions_test)\n",
        "print(\"test f1-score: %.2f%%\" % (results['f1-score test']*100))\n",
        "print(\"test macro f1-score: %.2f%%\" % (results['f1-score macro test']*100))\n",
        "print(\"test precision: %.2f%%\" % (results['precision test']*100))\n",
        "print(\"test recall: %.2f%%\" % (results['recall test']*100))\n",
        "print()\n",
        "print(\"test data confusion matrix\")\n",
        "y_true = pd.Series(y_test, name='True')\n",
        "y_pred = pd.Series(predictions_test, name='Predicted')\n",
        "pd.crosstab(y_true, y_pred)"
      ],
      "execution_count": null,
      "outputs": [
        {
          "output_type": "stream",
          "text": [
            "train f1-score: 72.18%\n",
            "train macro f1-score: 36.09%\n",
            "train precision: 56.47%\n",
            "train recall: 100.00%\n",
            "test f1-score: 72.16%\n",
            "test macro f1-score: 36.08%\n",
            "test precision: 56.45%\n",
            "test recall: 100.00%\n",
            "\n",
            "test data confusion matrix\n"
          ],
          "name": "stdout"
        },
        {
          "output_type": "execute_result",
          "data": {
            "text/html": [
              "<div>\n",
              "<style scoped>\n",
              "    .dataframe tbody tr th:only-of-type {\n",
              "        vertical-align: middle;\n",
              "    }\n",
              "\n",
              "    .dataframe tbody tr th {\n",
              "        vertical-align: top;\n",
              "    }\n",
              "\n",
              "    .dataframe thead th {\n",
              "        text-align: right;\n",
              "    }\n",
              "</style>\n",
              "<table border=\"1\" class=\"dataframe\">\n",
              "  <thead>\n",
              "    <tr style=\"text-align: right;\">\n",
              "      <th>Predicted</th>\n",
              "      <th>1</th>\n",
              "    </tr>\n",
              "    <tr>\n",
              "      <th>True</th>\n",
              "      <th></th>\n",
              "    </tr>\n",
              "  </thead>\n",
              "  <tbody>\n",
              "    <tr>\n",
              "      <th>0</th>\n",
              "      <td>4564</td>\n",
              "    </tr>\n",
              "    <tr>\n",
              "      <th>1</th>\n",
              "      <td>4604</td>\n",
              "    </tr>\n",
              "  </tbody>\n",
              "</table>\n",
              "</div>"
            ],
            "text/plain": [
              "Predicted     1\n",
              "True           \n",
              "0          4564\n",
              "1          4604"
            ]
          },
          "metadata": {
            "tags": []
          },
          "execution_count": 19
        }
      ]
    },
    {
      "cell_type": "markdown",
      "metadata": {
        "id": "_fyma4UtxZHi",
        "colab_type": "text"
      },
      "source": [
        "#### Logistic regression\n"
      ]
    },
    {
      "cell_type": "code",
      "metadata": {
        "id": "fLUV2wF844PG",
        "colab_type": "code",
        "colab": {
          "base_uri": "https://localhost:8080/",
          "height": 317
        },
        "outputId": "857cbe56-a95b-4d86-ce15-1a037393dfd6"
      },
      "source": [
        "from sklearn.linear_model import LogisticRegression\n",
        "lr = LogisticRegression(solver=\"liblinear\", penalty='l1', max_iter= 100, C= 0.9)\n",
        "\n",
        "#instantiate X_train feature vector according to the best tf-idf parameters fitted for LG\n",
        "tfidf_LR=TfidfVectorizer(ngram_range=(1,2),max_features = 10000,binary=False,norm='l2',max_df=0.3)\n",
        "X_train_tfidf_LR=tfidf_LR.fit_transform(X_train)\n",
        "X_test_tfidf_LR=tfidf_LR.transform(X_test)\n",
        "\n",
        "lr.fit(X_train_tfidf_LR, y_train)\n",
        "results = {}\n",
        "\n",
        "predictions = lr.predict(X_train_tfidf_LR)\n",
        "results['f1-score train'] = f1_score(y_train, predictions)\n",
        "results['f1-score macro train'] = f1_score(y_train, predictions, average='macro')\n",
        "results['precision train'] = precision_score(y_train, predictions)\n",
        "results['recall train'] = recall_score(y_train, predictions)\n",
        "print(\"train f1-score: %.2f%%\" % (results['f1-score train']*100))\n",
        "print(\"train macro f1-score: %.2f%%\" % (results['f1-score macro train']*100))\n",
        "print(\"train precision: %.2f%%\" % (results['precision train']*100))\n",
        "print(\"train recall: %.2f%%\" % (results['recall train']*100))\n",
        "\n",
        "predictions_test = lr.predict(X_test_tfidf_LR)\n",
        "results['f1-score test'] = f1_score(y_test, predictions_test)\n",
        "results['f1-score macro test'] = f1_score(y_test, predictions_test, average='macro')\n",
        "results['precision test'] = precision_score(y_test, predictions_test)\n",
        "results['recall test'] = recall_score(y_test, predictions_test)\n",
        "print(\"test f1-score: %.2f%%\" % (results['f1-score test']*100))\n",
        "print(\"test macro f1-score: %.2f%%\" % (results['f1-score macro test']*100))\n",
        "print(\"test precision: %.2f%%\" % (results['precision test']*100))\n",
        "print(\"test recall: %.2f%%\" % (results['recall test']*100))\n",
        "print()\n",
        "print(\"test data confusion matrix\")\n",
        "y_true = pd.Series(y_test, name='True')\n",
        "y_pred = pd.Series(predictions_test, name='Predicted')\n",
        "pd.crosstab(y_true, y_pred)"
      ],
      "execution_count": null,
      "outputs": [
        {
          "output_type": "stream",
          "text": [
            "train f1-score: 81.34%\n",
            "train macro f1-score: 76.92%\n",
            "train precision: 77.31%\n",
            "train recall: 85.81%\n",
            "test f1-score: 79.07%\n",
            "test macro f1-score: 74.05%\n",
            "test precision: 75.01%\n",
            "test recall: 83.60%\n",
            "\n",
            "test data confusion matrix\n"
          ],
          "name": "stdout"
        },
        {
          "output_type": "execute_result",
          "data": {
            "text/html": [
              "<div>\n",
              "<style scoped>\n",
              "    .dataframe tbody tr th:only-of-type {\n",
              "        vertical-align: middle;\n",
              "    }\n",
              "\n",
              "    .dataframe tbody tr th {\n",
              "        vertical-align: top;\n",
              "    }\n",
              "\n",
              "    .dataframe thead th {\n",
              "        text-align: right;\n",
              "    }\n",
              "</style>\n",
              "<table border=\"1\" class=\"dataframe\">\n",
              "  <thead>\n",
              "    <tr style=\"text-align: right;\">\n",
              "      <th>Predicted</th>\n",
              "      <th>0</th>\n",
              "      <th>1</th>\n",
              "    </tr>\n",
              "    <tr>\n",
              "      <th>True</th>\n",
              "      <th></th>\n",
              "      <th></th>\n",
              "    </tr>\n",
              "  </thead>\n",
              "  <tbody>\n",
              "    <tr>\n",
              "      <th>0</th>\n",
              "      <td>1718</td>\n",
              "      <td>2846</td>\n",
              "    </tr>\n",
              "    <tr>\n",
              "      <th>1</th>\n",
              "      <td>1704</td>\n",
              "      <td>2900</td>\n",
              "    </tr>\n",
              "  </tbody>\n",
              "</table>\n",
              "</div>"
            ],
            "text/plain": [
              "Predicted     0     1\n",
              "True                 \n",
              "0          1718  2846\n",
              "1          1704  2900"
            ]
          },
          "metadata": {
            "tags": []
          },
          "execution_count": 20
        }
      ]
    },
    {
      "cell_type": "markdown",
      "metadata": {
        "id": "0aOaxoKaOd0s",
        "colab_type": "text"
      },
      "source": [
        "#### Multinomial NB "
      ]
    },
    {
      "cell_type": "code",
      "metadata": {
        "id": "l8T2HAtGxHTN",
        "colab_type": "code",
        "colab": {
          "base_uri": "https://localhost:8080/",
          "height": 317
        },
        "outputId": "d6a08e16-2b0f-4cce-d072-85a1e9fde6b7"
      },
      "source": [
        "NB = MultinomialNB(alpha=1.1,fit_prior=True)\n",
        "\n",
        "#instantiate X_train feature vector according to the best tf-idf parameters fitted for NB\n",
        "tfidf_NB=TfidfVectorizer(ngram_range=(1,2),max_features = 10000,binary=False,norm='l2',max_df=1.0)\n",
        "X_train_tfidf_NB=tfidf_NB.fit_transform(X_train)\n",
        "X_test_tfidf_NB=tfidf_NB.transform(X_test)\n",
        "\n",
        "NB.fit(X_train_tfidf_NB, y_train)\n",
        "results = {}\n",
        "\n",
        "predictions = NB.predict(X_train_tfidf_NB)\n",
        "results['f1-score train'] = f1_score(y_train, predictions)\n",
        "results['f1-score macro train'] = f1_score(y_train, predictions, average='macro')\n",
        "results['precision train'] = precision_score(y_train, predictions)\n",
        "results['recall train'] = recall_score(y_train, predictions)\n",
        "print(\"train f1-score: %.2f%%\" % (results['f1-score train']*100))\n",
        "print(\"train macro f1-score: %.2f%%\" % (results['f1-score macro train']*100))\n",
        "print(\"train precision: %.2f%%\" % (results['precision train']*100))\n",
        "print(\"train recall: %.2f%%\" % (results['recall train']*100))\n",
        "\n",
        "predictions_test = NB.predict(X_test_tfidf_NB)\n",
        "results['f1-score test'] = f1_score(y_test, predictions_test)\n",
        "results['f1-score macro test'] = f1_score(y_test, predictions_test, average='macro')\n",
        "results['precision test'] = precision_score(y_test, predictions_test)\n",
        "results['recall test'] = recall_score(y_test, predictions_test)\n",
        "print(\"test f1-score: %.2f%%\" % (results['f1-score test']*100))\n",
        "print(\"test macro f1-score: %.2f%%\" % (results['f1-score macro test']*100))\n",
        "print(\"test precision: %.2f%%\" % (results['precision test']*100))\n",
        "print(\"test recall: %.2f%%\" % (results['recall test']*100))\n",
        "print()\n",
        "print(\"test data confusion matrix\")\n",
        "y_true = pd.Series(y_test, name='True')\n",
        "y_pred = pd.Series(predictions_test, name='Predicted')\n",
        "pd.crosstab(y_true, y_pred)"
      ],
      "execution_count": null,
      "outputs": [
        {
          "output_type": "stream",
          "text": [
            "train f1-score: 81.84%\n",
            "train macro f1-score: 77.64%\n",
            "train precision: 78.00%\n",
            "train recall: 86.06%\n",
            "test f1-score: 78.41%\n",
            "test macro f1-score: 73.25%\n",
            "test precision: 74.43%\n",
            "test recall: 82.84%\n",
            "\n",
            "test data confusion matrix\n"
          ],
          "name": "stdout"
        },
        {
          "output_type": "execute_result",
          "data": {
            "text/html": [
              "<div>\n",
              "<style scoped>\n",
              "    .dataframe tbody tr th:only-of-type {\n",
              "        vertical-align: middle;\n",
              "    }\n",
              "\n",
              "    .dataframe tbody tr th {\n",
              "        vertical-align: top;\n",
              "    }\n",
              "\n",
              "    .dataframe thead th {\n",
              "        text-align: right;\n",
              "    }\n",
              "</style>\n",
              "<table border=\"1\" class=\"dataframe\">\n",
              "  <thead>\n",
              "    <tr style=\"text-align: right;\">\n",
              "      <th>Predicted</th>\n",
              "      <th>0</th>\n",
              "      <th>1</th>\n",
              "    </tr>\n",
              "    <tr>\n",
              "      <th>True</th>\n",
              "      <th></th>\n",
              "      <th></th>\n",
              "    </tr>\n",
              "  </thead>\n",
              "  <tbody>\n",
              "    <tr>\n",
              "      <th>0</th>\n",
              "      <td>1732</td>\n",
              "      <td>2832</td>\n",
              "    </tr>\n",
              "    <tr>\n",
              "      <th>1</th>\n",
              "      <td>1678</td>\n",
              "      <td>2926</td>\n",
              "    </tr>\n",
              "  </tbody>\n",
              "</table>\n",
              "</div>"
            ],
            "text/plain": [
              "Predicted     0     1\n",
              "True                 \n",
              "0          1732  2832\n",
              "1          1678  2926"
            ]
          },
          "metadata": {
            "tags": []
          },
          "execution_count": 21
        }
      ]
    },
    {
      "cell_type": "markdown",
      "metadata": {
        "id": "YvFmj6WmP8-t",
        "colab_type": "text"
      },
      "source": [
        "### Learning Curves "
      ]
    },
    {
      "cell_type": "code",
      "metadata": {
        "id": "SNzwu-EE5c4X",
        "colab_type": "code",
        "colab": {
          "base_uri": "https://localhost:8080/",
          "height": 573
        },
        "outputId": "fa5c41a8-ad04-4299-902d-d1ab949d2de6"
      },
      "source": [
        "#Learning curves with cross-validtion\n",
        "import numpy as np\n",
        "import matplotlib.pyplot as plt\n",
        "from sklearn.model_selection import learning_curve\n",
        "from sklearn.model_selection import ShuffleSplit\n",
        "\n",
        "def plot_learning_curve(estimator, title, X, y, ylim=None, cv=None,\n",
        "                        n_jobs=1, train_sizes=np.linspace(.1, 1.0, 5)):\n",
        "   \n",
        "    plt.figure()\n",
        "    plt.title(title)\n",
        "    if ylim is not None:\n",
        "        plt.ylim(*ylim)\n",
        "    plt.xlabel(\"Training examples\")\n",
        "    plt.ylabel(\"F1-score\")\n",
        "    train_sizes, train_scores, test_scores = learning_curve(\n",
        "        estimator, X, y, cv=cv, n_jobs=n_jobs,scoring='f1', train_sizes=train_sizes)\n",
        "    train_scores_mean = np.mean(train_scores, axis=1)\n",
        "    train_scores_std = np.std(train_scores, axis=1)\n",
        "    test_scores_mean = np.mean(test_scores, axis=1)\n",
        "    test_scores_std = np.std(test_scores, axis=1)\n",
        "    plt.grid()\n",
        "\n",
        "    plt.fill_between(train_sizes, train_scores_mean - train_scores_std,\n",
        "                     train_scores_mean + train_scores_std, alpha=0.1,\n",
        "                     color=\"b\")\n",
        "    plt.fill_between(train_sizes, test_scores_mean - test_scores_std,\n",
        "                     test_scores_mean + test_scores_std, alpha=0.1, color=\"orange\")\n",
        "    plt.plot(train_sizes, train_scores_mean, 'o-', color=\"b\",\n",
        "             label=\"Training score\")\n",
        "    plt.plot(train_sizes, test_scores_mean, 'o-', color=\"orange\",\n",
        "             label=\"Cross-validation score\")\n",
        "\n",
        "    plt.legend(loc=\"lower right\")\n",
        "    return plt\n",
        "\n",
        "\n",
        "X, y = X_train_tfidf_LR,y_train\n",
        "\n",
        "\n",
        "title = \"Learning Curves (Logistic Regression)\"\n",
        "cv = ShuffleSplit(n_splits=5, test_size=0.2, random_state=0)\n",
        "plot_learning_curve(lr, title, X_train_tfidf_LR, y, (0.7, 1.01), cv=cv, n_jobs=-1)\n",
        "plt.show()\n",
        "\n",
        "\n",
        "title = \"Learning Curves (Naive Bayes)\"\n",
        "cv = ShuffleSplit(n_splits=5, test_size=0.2, random_state=0)\n",
        "# estimator = MultinomialNB()\n",
        "plot_learning_curve(NB, title, X_train_tfidf_NB, y, ylim=(0.7, 1.01), cv=cv, n_jobs=2)\n",
        "plt.show()"
      ],
      "execution_count": null,
      "outputs": [
        {
          "output_type": "display_data",
          "data": {
            "image/png": "[encoded data removed]",
            "text/plain": [
              "<Figure size 432x288 with 1 Axes>"
            ]
          },
          "metadata": {
            "tags": []
          }
        },
        {
          "output_type": "display_data",
          "data": {
            "image/png": "[encoded data removed]",
            "text/plain": [
              "<Figure size 432x288 with 1 Axes>"
            ]
          },
          "metadata": {
            "tags": []
          }
        }
      ]
    },
    {
      "cell_type": "code",
      "metadata": {
        "id": "nS0c-unG5qgq",
        "colab_type": "code",
        "colab": {
          "base_uri": "https://localhost:8080/",
          "height": 573
        },
        "outputId": "6304eaa8-148e-46d9-b272-21c4ce959663"
      },
      "source": [
        "#Precision-Recall curves\n",
        "from sklearn.metrics import precision_recall_curve\n",
        "from sklearn.metrics import auc\n",
        "\n",
        "\n",
        "#disable warnings for large float numbers of estimated probabilities\n",
        "np.seterr(all='ignore')\n",
        "estimators = {'Logistic Regression':lr,\n",
        "              'Naive Bayes':NB}\n",
        "\n",
        "for (name,estimator) in estimators.items():\n",
        "    \n",
        "    model =estimator\n",
        "    if(name=='Logistic Regression'):\n",
        "      pred = model.predict_proba(X_test_tfidf_LR)\n",
        "    elif(name=='Naive Bayes'):\n",
        "      pred = model.predict_proba(X_test_tfidf_NB)\n",
        "      \n",
        "    precision, recall, thresholds = precision_recall_curve(y_test, pred[:,1])\n",
        "    area = auc(recall, precision)\n",
        "\n",
        "    plt.plot(recall, precision, label='Precision-Recall curve')\n",
        "    plt.xlabel('Recall')\n",
        "    plt.ylabel('Precision')\n",
        "    plt.ylim([0.0, 1.05])\n",
        "    plt.xlim([0.0, 1.0])\n",
        "    plt.title('Precision-Recall %s: AUC=%0.2f' % (name,area))\n",
        "    plt.legend(loc=\"lower left\")\n",
        "    plt.show()"
      ],
      "execution_count": null,
      "outputs": [
        {
          "output_type": "display_data",
          "data": {
            "image/png": "[encoded data removed]",
            "text/plain": [
              "<Figure size 432x288 with 1 Axes>"
            ]
          },
          "metadata": {
            "tags": []
          }
        },
        {
          "output_type": "display_data",
          "data": {
            "image/png": "[encoded data removed]",
            "text/plain": [
              "<Figure size 432x288 with 1 Axes>"
            ]
          },
          "metadata": {
            "tags": []
          }
        }
      ]
    },
    {
      "cell_type": "markdown",
      "metadata": {
        "id": "HqwbZggFaRKI",
        "colab_type": "text"
      },
      "source": [
        "### Bootstrap"
      ]
    },
    {
      "cell_type": "code",
      "metadata": {
        "id": "5grPjnHlMN5K",
        "colab_type": "code",
        "colab": {}
      },
      "source": [
        "from tqdm import tqdm\n",
        "from sklearn.utils import resample\n",
        "\n",
        "def bootstrap_test(n_iterations, n_size, X, y, model1, model2):\n",
        "  #this function was based on slide 31\n",
        "  #get predictions on the whole test set for the two models\n",
        "  initial_predictions_model1 = model1.predict(X)\n",
        "  initial_predictions_model2 = model2.predict(X)\n",
        "  initial_model1_f1score = f1_score(y, initial_predictions_model1, average='macro')\n",
        "  initial_model2_f1score = f1_score(y, initial_predictions_model2, average='macro')\n",
        "  #estimate δ(x) for whole test set\n",
        "  initial_dif = initial_model1_f1score - initial_model2_f1score\n",
        "  #setup b\n",
        "  bsets = 0\n",
        "  my_list=list(range(n_iterations))\n",
        "  for i in tqdm(my_list):\n",
        "    #sample with replacement the test set\n",
        "    X_sub, y_sub = resample(X, y, n_samples=n_size)\n",
        "    #get predictions on the new sub-set for the two models\n",
        "    subsample_predictions_model1 = model1.predict(X_sub)\n",
        "    subsample_predictions_model2 = model2.predict(X_sub)\n",
        "    subsample_model1_f1score = f1_score(y_sub, subsample_predictions_model1, average='macro')\n",
        "    subsample_model2_f1score = f1_score(y_sub, subsample_predictions_model2, average='macro')\n",
        "    #estimate δ(x*(i)) for new sub-set test set\n",
        "    subsample_dif = subsample_model1_f1score - subsample_model2_f1score\n",
        "    if subsample_dif > 2 * initial_dif:\n",
        "      bsets +=1\n",
        "    p_value = bsets / n_iterations\n",
        "  return p_value"
      ],
      "execution_count": null,
      "outputs": []
    },
    {
      "cell_type": "code",
      "metadata": {
        "id": "5f_H2vpf-VgE",
        "colab_type": "code",
        "colab": {}
      },
      "source": [
        "# configure bootstrap\n",
        "n_iterations = 10000\n",
        "n_size = len(y_test)"
      ],
      "execution_count": null,
      "outputs": []
    },
    {
      "cell_type": "code",
      "metadata": {
        "id": "2cno5EPTQERV",
        "colab_type": "code",
        "colab": {
          "base_uri": "https://localhost:8080/",
          "height": 52
        },
        "outputId": "1ec4178b-d759-4f5e-cf15-ebb68fad46fd"
      },
      "source": [
        "# run bootstrap between LR and dummy classifier\n",
        "bootstrap_test(n_iterations, n_size, X_test_tfidf_LR, y_test, lr, base)"
      ],
      "execution_count": null,
      "outputs": [
        {
          "output_type": "stream",
          "text": [
            "100%|██████████| 10000/10000 [05:04<00:00, 31.43it/s]\n"
          ],
          "name": "stderr"
        },
        {
          "output_type": "execute_result",
          "data": {
            "text/plain": [
              "0.0"
            ]
          },
          "metadata": {
            "tags": []
          },
          "execution_count": 87
        }
      ]
    },
    {
      "cell_type": "code",
      "metadata": {
        "id": "0aGb7ygsfhvg",
        "colab_type": "code",
        "colab": {
          "base_uri": "https://localhost:8080/",
          "height": 52
        },
        "outputId": "fc1014f9-bf5f-49bf-b292-ca471c167617"
      },
      "source": [
        "# run bootstrap between LR and Naive Bayes\n",
        "bootstrap_test(n_iterations, n_size, X_test_tfidf_LR, y_test, lr, NB)"
      ],
      "execution_count": null,
      "outputs": [
        {
          "output_type": "stream",
          "text": [
            "100%|██████████| 10000/10000 [05:41<00:00, 29.24it/s]\n"
          ],
          "name": "stderr"
        },
        {
          "output_type": "execute_result",
          "data": {
            "text/plain": [
              "0.0001"
            ]
          },
          "metadata": {
            "tags": []
          },
          "execution_count": 89
        }
      ]
    },
    {
      "cell_type": "code",
      "metadata": {
        "id": "WjzlR1mM08ft",
        "colab_type": "code",
        "colab": {}
      },
      "source": [
        ""
      ],
      "execution_count": null,
      "outputs": []
    }
  ]
}